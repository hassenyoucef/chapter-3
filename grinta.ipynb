{
 "cells": [
  {
   "cell_type": "code",
   "execution_count": 37,
   "id": "82b2288a",
   "metadata": {},
   "outputs": [],
   "source": [
    "my_dictionary={\"knowlege\":\"data science\",\"tool\":\"python\",\"year\":2020}"
   ]
  },
  {
   "cell_type": "code",
   "execution_count": 38,
   "id": "f9047125",
   "metadata": {},
   "outputs": [
    {
     "name": "stdout",
     "output_type": "stream",
     "text": [
      "data science\n",
      "python\n",
      "2020\n"
     ]
    }
   ],
   "source": [
    "for value in my_dictionary.values():    #  Loop Through dictionary values\n",
    "     print(value)"
   ]
  },
  {
   "cell_type": "code",
   "execution_count": 39,
   "id": "93c67e67",
   "metadata": {},
   "outputs": [
    {
     "name": "stdout",
     "output_type": "stream",
     "text": [
      "knowlege\n",
      "tool\n",
      "year\n"
     ]
    }
   ],
   "source": [
    "for key in my_dictionary.keys():     # Loop Through dictionary keys\n",
    "     print(key)"
   ]
  },
  {
   "cell_type": "code",
   "execution_count": 40,
   "id": "3273dd19",
   "metadata": {},
   "outputs": [
    {
     "name": "stdout",
     "output_type": "stream",
     "text": [
      "('knowlege', 'data science')\n",
      "('tool', 'python')\n",
      "('year', 2020)\n"
     ]
    }
   ],
   "source": [
    "for item in my_dictionary.items():     # Loop Through dictionary items\n",
    "      print(item)"
   ]
  },
  {
   "cell_type": "code",
   "execution_count": 41,
   "id": "7aa97929",
   "metadata": {},
   "outputs": [
    {
     "name": "stdout",
     "output_type": "stream",
     "text": [
      "3\n"
     ]
    }
   ],
   "source": [
    "print(len(my_dictionary)) "
   ]
  },
  {
   "cell_type": "code",
   "execution_count": 42,
   "id": "9e73f802",
   "metadata": {},
   "outputs": [
    {
     "name": "stdout",
     "output_type": "stream",
     "text": [
      "2022\n"
     ]
    }
   ],
   "source": [
    "my_dictionary[\"year\"]= \"2022\"\n",
    "print(my_dictionary[\"year\"])"
   ]
  },
  {
   "cell_type": "code",
   "execution_count": 44,
   "id": "355fba1a",
   "metadata": {},
   "outputs": [
    {
     "ename": "KeyError",
     "evalue": "'year'",
     "output_type": "error",
     "traceback": [
      "\u001b[1;31m---------------------------------------------------------------------------\u001b[0m",
      "\u001b[1;31mKeyError\u001b[0m                                  Traceback (most recent call last)",
      "Input \u001b[1;32mIn [44]\u001b[0m, in \u001b[0;36m<cell line: 1>\u001b[1;34m()\u001b[0m\n\u001b[1;32m----> 1\u001b[0m \u001b[43mmy_dictionary\u001b[49m\u001b[38;5;241;43m.\u001b[39;49m\u001b[43mpop\u001b[49m\u001b[43m(\u001b[49m\u001b[38;5;124;43m\"\u001b[39;49m\u001b[38;5;124;43myear\u001b[39;49m\u001b[38;5;124;43m\"\u001b[39;49m\u001b[43m)\u001b[49m\n\u001b[0;32m      2\u001b[0m \u001b[38;5;28mprint\u001b[39m(my_dictionary\u001b[38;5;241m.\u001b[39mitems())\n",
      "\u001b[1;31mKeyError\u001b[0m: 'year'"
     ]
    }
   ],
   "source": [
    "my_dictionary.pop(\"year\")\n",
    "print(my_dictionary.items())"
   ]
  },
  {
   "cell_type": "code",
   "execution_count": 45,
   "id": "b8737ed9",
   "metadata": {},
   "outputs": [],
   "source": [
    "my_set = {\"python\", \"java\", \"R\"}"
   ]
  },
  {
   "cell_type": "code",
   "execution_count": 46,
   "id": "929bf8e0",
   "metadata": {},
   "outputs": [
    {
     "name": "stdout",
     "output_type": "stream",
     "text": [
      "{'python', 'java', 'scala', 'R'}\n"
     ]
    }
   ],
   "source": [
    "my_set.add(\"scala\")    #add \"scala\" to the set\n",
    "print(my_set)    #{'scala', 'python', 'java', 'R'}"
   ]
  },
  {
   "cell_type": "code",
   "execution_count": 47,
   "id": "3d8c60b1",
   "metadata": {},
   "outputs": [
    {
     "name": "stdout",
     "output_type": "stream",
     "text": [
      "{'python', 'java', 'scala'}\n"
     ]
    }
   ],
   "source": [
    "my_set.remove(\"R\")    #remove \"R\" item\n",
    "print(my_set)    #{'scala', 'python', 'java'}"
   ]
  },
  {
   "cell_type": "code",
   "execution_count": 48,
   "id": "dfa55887",
   "metadata": {},
   "outputs": [],
   "source": [
    "del my_set"
   ]
  },
  {
   "cell_type": "code",
   "execution_count": 57,
   "id": "6a39e4fc",
   "metadata": {},
   "outputs": [
    {
     "name": "stdout",
     "output_type": "stream",
     "text": [
      "36\n"
     ]
    }
   ],
   "source": [
    "sample_liste=[2,3,6]\n",
    "resulte=1\n",
    "for i in range (len(sample_liste)):\n",
    "    resulte*=sample_liste[i]\n",
    "print(resulte)"
   ]
  },
  {
   "cell_type": "code",
   "execution_count": 59,
   "id": "86106309",
   "metadata": {},
   "outputs": [
    {
     "name": "stdout",
     "output_type": "stream",
     "text": [
      "[(1, 2), (2, 1), (2, 5), (4, 4)]\n"
     ]
    }
   ],
   "source": [
    "samplelist = [(2,5),(1,2),(4,4),(2,1)]\n",
    "samplelist.sort()\n",
    "\n",
    "print(samplelist)"
   ]
  },
  {
   "cell_type": "code",
   "execution_count": 74,
   "id": "570eaf5c",
   "metadata": {},
   "outputs": [
    {
     "data": {
      "text/plain": [
       "{'a': 400, 'b': 400, 'c': 300, 'd': 400}"
      ]
     },
     "execution_count": 74,
     "metadata": {},
     "output_type": "execute_result"
    }
   ],
   "source": [
    "#qst3\n",
    "D1={'a':100,'b':200,'c':300}\n",
    "D2={'a':300,'b':200,'d':400}\n",
    "D3={}\n",
    "for i in D1.keys():\n",
    "    if i in D2:\n",
    "        D3[i]= D1[i]+D2[i]\n",
    "    if i not in D2:\n",
    "        D3[i]=D1[i]\n",
    "for i in D2.keys() :\n",
    "    if i not in D1:\n",
    "        D3[i]=D2[i]\n",
    "    \n",
    "        \n",
    "        \n",
    "D3        \n"
   ]
  },
  {
   "cell_type": "code",
   "execution_count": 75,
   "id": "fc205cad",
   "metadata": {},
   "outputs": [
    {
     "name": "stdout",
     "output_type": "stream",
     "text": [
      "5\n",
      "{1: 1, 2: 4, 3: 9, 4: 16, 5: 25}\n"
     ]
    }
   ],
   "source": [
    "n=int(input())\n",
    "d={}\n",
    "for i in range(1,n+1):\n",
    "    d[i]=i*i\n",
    "print(d)\n"
   ]
  },
  {
   "cell_type": "code",
   "execution_count": null,
   "id": "dddee8a1",
   "metadata": {},
   "outputs": [],
   "source": []
  },
  {
   "cell_type": "code",
   "execution_count": null,
   "id": "0747f028",
   "metadata": {},
   "outputs": [],
   "source": []
  }
 ],
 "metadata": {
  "kernelspec": {
   "display_name": "Python 3 (ipykernel)",
   "language": "python",
   "name": "python3"
  },
  "language_info": {
   "codemirror_mode": {
    "name": "ipython",
    "version": 3
   },
   "file_extension": ".py",
   "mimetype": "text/x-python",
   "name": "python",
   "nbconvert_exporter": "python",
   "pygments_lexer": "ipython3",
   "version": "3.9.12"
  }
 },
 "nbformat": 4,
 "nbformat_minor": 5
}
